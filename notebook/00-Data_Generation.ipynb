{
 "cells": [
  {
   "cell_type": "code",
   "execution_count": 4,
   "id": "34fa79f8",
   "metadata": {},
   "outputs": [],
   "source": [
    "import numpy as np\n",
    "import pandas as pd"
   ]
  },
  {
   "cell_type": "code",
   "execution_count": 19,
   "id": "d96b7e31",
   "metadata": {},
   "outputs": [],
   "source": [
    "def credit_fv_delta(principal, maturity, credit_spread, interest_rates):\n",
    "    \"\"\"\n",
    "    Compute the change in fair value (delta) for a single credit\n",
    "    when the benchmark interest rate shifts.\n",
    "\n",
    "    Parameters\n",
    "    ----------\n",
    "    principal : float\n",
    "        Loan principal amount.\n",
    "    maturity : int\n",
    "        Total number of installments from t=0.\n",
    "    credit_spread : float\n",
    "        Loan-specific spread over the benchmark (annual).\n",
    "    interest_rates : (float, float)\n",
    "        Benchmark rates (annual) at t=0 and t=1.\n",
    "\n",
    "    Returns\n",
    "    -------\n",
    "    float : delta value (fair value at t=1 under rate_1 - fair value at t=1 under rate_0)\n",
    "    \"\"\"\n",
    "    # Effective discount rates (annual)\n",
    "    rate0 = credit_spread + interest_rates[0]\n",
    "    rate1 = credit_spread + interest_rates[1]\n",
    "\n",
    "    # Monthly payment based on rate0 (coupon)\n",
    "    r_month = rate0 / 12\n",
    "    payment = principal * r_month / (1 - (1 + r_month) ** (-maturity))\n",
    "\n",
    "    # Remaining payments at t=1\n",
    "    R = maturity - 1\n",
    "\n",
    "    # Present value at t=1 using rate0 and rate1 directly as per-period rates\n",
    "    def pv(period_rate, n, pay):\n",
    "        if period_rate == 0:\n",
    "            return -pay * n\n",
    "        return -pay * (1 - (1 + period_rate) ** (-n)) / period_rate\n",
    "\n",
    "    fv0 = -pv(rate0, R, payment)\n",
    "    fv1 = -pv(rate1, R, payment)\n",
    "\n",
    "    return round(fv1 - fv0, 2)\n"
   ]
  },
  {
   "cell_type": "code",
   "execution_count": null,
   "id": "dfc7b062",
   "metadata": {},
   "outputs": [
    {
     "data": {
      "text/plain": [
       "0.0"
      ]
     },
     "execution_count": 22,
     "metadata": {},
     "output_type": "execute_result"
    }
   ],
   "source": [
    "delta = credit_fv_delta(\n",
    "    principal=40_000,\n",
    "    maturity=4,\n",
    "    credit_spread=0.015,             \n",
    "    interest_rates=(0.07, 0.07)    \n",
    ")\n",
    "delta\n"
   ]
  },
  {
   "cell_type": "code",
   "execution_count": null,
   "id": "4b1b7632",
   "metadata": {},
   "outputs": [],
   "source": []
  }
 ],
 "metadata": {
  "kernelspec": {
   "display_name": "mkp_rl",
   "language": "python",
   "name": "python3"
  },
  "language_info": {
   "codemirror_mode": {
    "name": "ipython",
    "version": 3
   },
   "file_extension": ".py",
   "mimetype": "text/x-python",
   "name": "python",
   "nbconvert_exporter": "python",
   "pygments_lexer": "ipython3",
   "version": "3.10.14"
  }
 },
 "nbformat": 4,
 "nbformat_minor": 5
}
