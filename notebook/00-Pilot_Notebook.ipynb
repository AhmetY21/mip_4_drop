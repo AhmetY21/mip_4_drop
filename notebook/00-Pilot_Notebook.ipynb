{
 "cells": [
  {
   "cell_type": "code",
   "execution_count": 1,
   "id": "34fa79f8",
   "metadata": {},
   "outputs": [],
   "source": [
    "import numpy as np\n",
    "import pandas as pd\n",
    "import numpy_financial as npf\n",
    "import time\n",
    "import sys\n",
    "sys.path.append('../')\n",
    "\n",
    "from utils.data_generation.hedge_item_gen import credit_fv_delta,CreditGenerator\n",
    "from utils.data_generation.hedge_instrument_gen import SwapGenerator\n",
    "from utils.solvers.mip_drop_cplex import solve_with_cplex\n",
    "from utils.solvers.mip_drop_cbc import solve_with_cbc\n",
    "from utils.validation_functions.validation_cplex import validate_solution_cplex\n",
    "from utils.validation_functions.validation_cbc import validate_solution_cbc\n",
    "\n",
    "pd.set_option('display.float_format', lambda x: '{:,.3f}'.format(x))\n"
   ]
  },
  {
   "cell_type": "code",
   "execution_count": null,
   "id": "e1017b52",
   "metadata": {},
   "outputs": [],
   "source": []
  },
  {
   "cell_type": "markdown",
   "id": "7e9a87f6",
   "metadata": {},
   "source": [
    "## Fair Value Change Example "
   ]
  },
  {
   "cell_type": "code",
   "execution_count": 2,
   "id": "d96b7e31",
   "metadata": {},
   "outputs": [
    {
     "name": "stdout",
     "output_type": "stream",
     "text": [
      "principal = 40000\n",
      "maturity = 4\n",
      "credit_spread = 0.015\n",
      "interest_rates = (0.07, 0.075)\n",
      "rate0 = 0.085\n",
      "rate1 = 0.09\n",
      "r_month = 0.007\n",
      "payment = 10177.708\n",
      "fv0     = 25994.095\n",
      "fv1     = 25762.779\n",
      "result  = -231.320\n"
     ]
    }
   ],
   "source": [
    "principal = 40000\n",
    "maturity = 4\n",
    "credit_spread = 0.015\n",
    "interest_rates = (0.07, 0.075)\n",
    "\n",
    "rate0 = credit_spread + interest_rates[0]\n",
    "rate1 = credit_spread + interest_rates[1]\n",
    "\n",
    "# Monthly payment based on rate0 \n",
    "r_month = rate0 / 12\n",
    "payment = -npf.pmt(r_month, maturity, principal)\n",
    "\n",
    "# Remaining payments at t=1\n",
    "fv0 = -npf.pv(rate0, maturity-1, payment)\n",
    "fv1 = -npf.pv(rate1, maturity-1, payment)\n",
    "\n",
    "result = round(float(fv1 - fv0), 2)\n",
    "\n",
    "# Print all variables with names\n",
    "print(\"principal =\", principal)\n",
    "print(\"maturity =\", maturity)\n",
    "print(\"credit_spread =\", credit_spread)\n",
    "print(\"interest_rates =\", interest_rates)\n",
    "print(\"rate0 =\", rate0)\n",
    "print(\"rate1 =\", rate1)\n",
    "print(f\"r_month = {r_month:.3f}\")\n",
    "print(f\"payment = {payment:.3f}\")\n",
    "print(f\"fv0     = {fv0:.3f}\")\n",
    "print(f\"fv1     = {fv1:.3f}\")\n",
    "print(f\"result  = {result:.3f}\")\n"
   ]
  },
  {
   "cell_type": "markdown",
   "id": "bdda1d6a",
   "metadata": {},
   "source": [
    "## Scenario Valdiation for FV change of Credits"
   ]
  },
  {
   "cell_type": "markdown",
   "id": "0a4ab02c",
   "metadata": {},
   "source": [
    "### Increase of the Interest Rates"
   ]
  },
  {
   "cell_type": "code",
   "execution_count": 3,
   "id": "dfc7b062",
   "metadata": {},
   "outputs": [
    {
     "data": {
      "text/plain": [
       "-231.32"
      ]
     },
     "execution_count": 3,
     "metadata": {},
     "output_type": "execute_result"
    }
   ],
   "source": [
    "delta = credit_fv_delta(\n",
    "    principal=40_000,\n",
    "    maturity=4,\n",
    "    credit_spread=0.015,             \n",
    "    interest_rates=(0.07, 0.075)    \n",
    ")\n",
    "delta\n"
   ]
  },
  {
   "cell_type": "markdown",
   "id": "ea0b8384",
   "metadata": {},
   "source": [
    "### Decrease of the Interest Rates"
   ]
  },
  {
   "cell_type": "code",
   "execution_count": 4,
   "id": "4b1b7632",
   "metadata": {},
   "outputs": [
    {
     "data": {
      "text/plain": [
       "231.55"
      ]
     },
     "execution_count": 4,
     "metadata": {},
     "output_type": "execute_result"
    }
   ],
   "source": [
    "delta = credit_fv_delta(\n",
    "    principal=40_000,\n",
    "    maturity=4,\n",
    "    credit_spread=0.015,             \n",
    "    interest_rates=(0.075, 0.07)    \n",
    ")\n",
    "delta\n"
   ]
  },
  {
   "cell_type": "markdown",
   "id": "e2a4ae82",
   "metadata": {},
   "source": [
    "## Credit Portfolio Generation"
   ]
  },
  {
   "cell_type": "code",
   "execution_count": 5,
   "id": "cb7d638c",
   "metadata": {},
   "outputs": [
    {
     "name": "stdout",
     "output_type": "stream",
     "text": [
      "Top 5 rows of generated credits:\n"
     ]
    },
    {
     "data": {
      "text/html": [
       "<div>\n",
       "<style scoped>\n",
       "    .dataframe tbody tr th:only-of-type {\n",
       "        vertical-align: middle;\n",
       "    }\n",
       "\n",
       "    .dataframe tbody tr th {\n",
       "        vertical-align: top;\n",
       "    }\n",
       "\n",
       "    .dataframe thead th {\n",
       "        text-align: right;\n",
       "    }\n",
       "</style>\n",
       "<table border=\"1\" class=\"dataframe\">\n",
       "  <thead>\n",
       "    <tr style=\"text-align: right;\">\n",
       "      <th></th>\n",
       "      <th>Type</th>\n",
       "      <th>Principal</th>\n",
       "      <th>Maturity</th>\n",
       "      <th>Credit_Spread</th>\n",
       "      <th>Delta_FV</th>\n",
       "    </tr>\n",
       "  </thead>\n",
       "  <tbody>\n",
       "    <tr>\n",
       "      <th>0</th>\n",
       "      <td>Cash Loan Credit</td>\n",
       "      <td>10860</td>\n",
       "      <td>6</td>\n",
       "      <td>0.012</td>\n",
       "      <td>-95.590</td>\n",
       "    </tr>\n",
       "    <tr>\n",
       "      <th>1</th>\n",
       "      <td>Cash Loan Credit</td>\n",
       "      <td>16265</td>\n",
       "      <td>6</td>\n",
       "      <td>0.006</td>\n",
       "      <td>-146.740</td>\n",
       "    </tr>\n",
       "    <tr>\n",
       "      <th>2</th>\n",
       "      <td>Cash Loan Credit</td>\n",
       "      <td>26023</td>\n",
       "      <td>6</td>\n",
       "      <td>0.005</td>\n",
       "      <td>-235.510</td>\n",
       "    </tr>\n",
       "    <tr>\n",
       "      <th>3</th>\n",
       "      <td>Car Loan Credit</td>\n",
       "      <td>22433</td>\n",
       "      <td>6</td>\n",
       "      <td>0.018</td>\n",
       "      <td>-193.330</td>\n",
       "    </tr>\n",
       "    <tr>\n",
       "      <th>4</th>\n",
       "      <td>Cash Loan Credit</td>\n",
       "      <td>38693</td>\n",
       "      <td>4</td>\n",
       "      <td>0.009</td>\n",
       "      <td>-227.380</td>\n",
       "    </tr>\n",
       "  </tbody>\n",
       "</table>\n",
       "</div>"
      ],
      "text/plain": [
       "               Type  Principal  Maturity  Credit_Spread  Delta_FV\n",
       "0  Cash Loan Credit      10860         6          0.012   -95.590\n",
       "1  Cash Loan Credit      16265         6          0.006  -146.740\n",
       "2  Cash Loan Credit      26023         6          0.005  -235.510\n",
       "3   Car Loan Credit      22433         6          0.018  -193.330\n",
       "4  Cash Loan Credit      38693         4          0.009  -227.380"
      ]
     },
     "metadata": {},
     "output_type": "display_data"
    },
    {
     "name": "stdout",
     "output_type": "stream",
     "text": [
      "\n",
      "Credits DataFrame summary statistics:\n"
     ]
    },
    {
     "data": {
      "text/html": [
       "<div>\n",
       "<style scoped>\n",
       "    .dataframe tbody tr th:only-of-type {\n",
       "        vertical-align: middle;\n",
       "    }\n",
       "\n",
       "    .dataframe tbody tr th {\n",
       "        vertical-align: top;\n",
       "    }\n",
       "\n",
       "    .dataframe thead th {\n",
       "        text-align: right;\n",
       "    }\n",
       "</style>\n",
       "<table border=\"1\" class=\"dataframe\">\n",
       "  <thead>\n",
       "    <tr style=\"text-align: right;\">\n",
       "      <th></th>\n",
       "      <th>Principal</th>\n",
       "      <th>Maturity</th>\n",
       "      <th>Credit_Spread</th>\n",
       "      <th>Delta_FV</th>\n",
       "    </tr>\n",
       "  </thead>\n",
       "  <tbody>\n",
       "    <tr>\n",
       "      <th>count</th>\n",
       "      <td>10,000.000</td>\n",
       "      <td>10,000.000</td>\n",
       "      <td>10,000.000</td>\n",
       "      <td>10,000.000</td>\n",
       "    </tr>\n",
       "    <tr>\n",
       "      <th>mean</th>\n",
       "      <td>31,473.846</td>\n",
       "      <td>5.510</td>\n",
       "      <td>0.011</td>\n",
       "      <td>-252.342</td>\n",
       "    </tr>\n",
       "    <tr>\n",
       "      <th>std</th>\n",
       "      <td>13,317.703</td>\n",
       "      <td>1.242</td>\n",
       "      <td>0.005</td>\n",
       "      <td>122.939</td>\n",
       "    </tr>\n",
       "    <tr>\n",
       "      <th>min</th>\n",
       "      <td>10,002.000</td>\n",
       "      <td>2.000</td>\n",
       "      <td>0.005</td>\n",
       "      <td>-1,218.070</td>\n",
       "    </tr>\n",
       "    <tr>\n",
       "      <th>25%</th>\n",
       "      <td>20,841.250</td>\n",
       "      <td>4.000</td>\n",
       "      <td>0.008</td>\n",
       "      <td>-325.750</td>\n",
       "    </tr>\n",
       "    <tr>\n",
       "      <th>50%</th>\n",
       "      <td>30,946.500</td>\n",
       "      <td>5.000</td>\n",
       "      <td>0.011</td>\n",
       "      <td>-236.520</td>\n",
       "    </tr>\n",
       "    <tr>\n",
       "      <th>75%</th>\n",
       "      <td>41,113.500</td>\n",
       "      <td>7.000</td>\n",
       "      <td>0.013</td>\n",
       "      <td>-158.657</td>\n",
       "    </tr>\n",
       "    <tr>\n",
       "      <th>max</th>\n",
       "      <td>99,912.000</td>\n",
       "      <td>11.000</td>\n",
       "      <td>0.040</td>\n",
       "      <td>-57.980</td>\n",
       "    </tr>\n",
       "  </tbody>\n",
       "</table>\n",
       "</div>"
      ],
      "text/plain": [
       "       Principal   Maturity  Credit_Spread   Delta_FV\n",
       "count 10,000.000 10,000.000     10,000.000 10,000.000\n",
       "mean  31,473.846      5.510          0.011   -252.342\n",
       "std   13,317.703      1.242          0.005    122.939\n",
       "min   10,002.000      2.000          0.005 -1,218.070\n",
       "25%   20,841.250      4.000          0.008   -325.750\n",
       "50%   30,946.500      5.000          0.011   -236.520\n",
       "75%   41,113.500      7.000          0.013   -158.657\n",
       "max   99,912.000     11.000          0.040    -57.980"
      ]
     },
     "metadata": {},
     "output_type": "display_data"
    },
    {
     "name": "stdout",
     "output_type": "stream",
     "text": [
      "\n",
      "Credits DataFrame info:\n",
      "<class 'pandas.core.frame.DataFrame'>\n",
      "RangeIndex: 10000 entries, 0 to 9999\n",
      "Data columns (total 5 columns):\n",
      " #   Column         Non-Null Count  Dtype  \n",
      "---  ------         --------------  -----  \n",
      " 0   Type           10000 non-null  object \n",
      " 1   Principal      10000 non-null  int64  \n",
      " 2   Maturity       10000 non-null  int64  \n",
      " 3   Credit_Spread  10000 non-null  float64\n",
      " 4   Delta_FV       10000 non-null  float64\n",
      "dtypes: float64(2), int64(2), object(1)\n",
      "memory usage: 390.8+ KB\n"
     ]
    },
    {
     "data": {
      "text/plain": [
       "None"
      ]
     },
     "metadata": {},
     "output_type": "display_data"
    }
   ],
   "source": [
    "# New setting for updated CreditGenerator\n",
    "\n",
    "num_credits = 10000\n",
    "num_swaps = 2\n",
    "fulfillment_ratio = 0.6\n",
    "\n",
    "\n",
    "credit_generator_inputs = {\n",
    "    'credit_types': ['Cash Loan Credit', 'Car Loan Credit', 'Mortgage Credit'],\n",
    "    'principals_ranges': [[10_000, 50_000], [20_000, 70_000], [30_000, 100_000]],\n",
    "    'maturities_ranges': [[4, 8], [3, 9], [2, 12]],\n",
    "    'distributions': [0.90, 0.08, 0.02],  # 90% cash, 8% car, 2% mortgage\n",
    "    'credit_spread_ranges': [\n",
    "        [0.005, 0.015],   # Cash loans: tighter spreads (0.5% – 1.5%)\n",
    "        [0.015, 0.030],   # Car loans: higher spreads (1.5% – 3.0%)\n",
    "        [0.020, 0.040]    # Mortgage loans: even higher (2.0% – 4.0%)\n",
    "    ],\n",
    "    'num_credits': num_credits,\n",
    "    'interest_rates': [0.07, 0.075]  # base rates: initial 7.0%, then 7.5%\n",
    "}\n",
    "\n",
    "# Usage:\n",
    "credit_generator = CreditGenerator(**credit_generator_inputs, random_seed=42)\n",
    "credits_df = credit_generator.generate_credits()\n",
    "print('Top 5 rows of generated credits:')\n",
    "display(credits_df.head())\n",
    "print('\\nCredits DataFrame summary statistics:')\n",
    "display(credits_df.describe())\n",
    "print('\\nCredits DataFrame info:')\n",
    "display(credits_df.info())\n"
   ]
  },
  {
   "cell_type": "code",
   "execution_count": 6,
   "id": "d7f81cfe",
   "metadata": {},
   "outputs": [
    {
     "name": "stdout",
     "output_type": "stream",
     "text": [
      "Top 5 rows of generated swaps:\n"
     ]
    },
    {
     "data": {
      "text/html": [
       "<div>\n",
       "<style scoped>\n",
       "    .dataframe tbody tr th:only-of-type {\n",
       "        vertical-align: middle;\n",
       "    }\n",
       "\n",
       "    .dataframe tbody tr th {\n",
       "        vertical-align: top;\n",
       "    }\n",
       "\n",
       "    .dataframe thead th {\n",
       "        text-align: right;\n",
       "    }\n",
       "</style>\n",
       "<table border=\"1\" class=\"dataframe\">\n",
       "  <thead>\n",
       "    <tr style=\"text-align: right;\">\n",
       "      <th></th>\n",
       "      <th>Swap</th>\n",
       "      <th>Principal</th>\n",
       "      <th>Delta_FV</th>\n",
       "      <th>Maturity</th>\n",
       "    </tr>\n",
       "  </thead>\n",
       "  <tbody>\n",
       "    <tr>\n",
       "      <th>0</th>\n",
       "      <td>1</td>\n",
       "      <td>93,840,688.000</td>\n",
       "      <td>712,295.959</td>\n",
       "      <td>5.500</td>\n",
       "    </tr>\n",
       "    <tr>\n",
       "      <th>1</th>\n",
       "      <td>2</td>\n",
       "      <td>95,030,488.000</td>\n",
       "      <td>723,897.444</td>\n",
       "      <td>5.530</td>\n",
       "    </tr>\n",
       "  </tbody>\n",
       "</table>\n",
       "</div>"
      ],
      "text/plain": [
       "   Swap      Principal    Delta_FV  Maturity\n",
       "0     1 93,840,688.000 712,295.959     5.500\n",
       "1     2 95,030,488.000 723,897.444     5.530"
      ]
     },
     "metadata": {},
     "output_type": "display_data"
    },
    {
     "name": "stdout",
     "output_type": "stream",
     "text": [
      "\n",
      "Swaps DataFrame summary statistics:\n"
     ]
    },
    {
     "data": {
      "text/html": [
       "<div>\n",
       "<style scoped>\n",
       "    .dataframe tbody tr th:only-of-type {\n",
       "        vertical-align: middle;\n",
       "    }\n",
       "\n",
       "    .dataframe tbody tr th {\n",
       "        vertical-align: top;\n",
       "    }\n",
       "\n",
       "    .dataframe thead th {\n",
       "        text-align: right;\n",
       "    }\n",
       "</style>\n",
       "<table border=\"1\" class=\"dataframe\">\n",
       "  <thead>\n",
       "    <tr style=\"text-align: right;\">\n",
       "      <th></th>\n",
       "      <th>Swap</th>\n",
       "      <th>Principal</th>\n",
       "      <th>Delta_FV</th>\n",
       "      <th>Maturity</th>\n",
       "    </tr>\n",
       "  </thead>\n",
       "  <tbody>\n",
       "    <tr>\n",
       "      <th>count</th>\n",
       "      <td>2.000</td>\n",
       "      <td>2.000</td>\n",
       "      <td>2.000</td>\n",
       "      <td>2.000</td>\n",
       "    </tr>\n",
       "    <tr>\n",
       "      <th>mean</th>\n",
       "      <td>1.500</td>\n",
       "      <td>94,435,588.000</td>\n",
       "      <td>718,096.702</td>\n",
       "      <td>5.515</td>\n",
       "    </tr>\n",
       "    <tr>\n",
       "      <th>std</th>\n",
       "      <td>0.707</td>\n",
       "      <td>841,315.648</td>\n",
       "      <td>8,203.489</td>\n",
       "      <td>0.021</td>\n",
       "    </tr>\n",
       "    <tr>\n",
       "      <th>min</th>\n",
       "      <td>1.000</td>\n",
       "      <td>93,840,688.000</td>\n",
       "      <td>712,295.959</td>\n",
       "      <td>5.500</td>\n",
       "    </tr>\n",
       "    <tr>\n",
       "      <th>25%</th>\n",
       "      <td>1.250</td>\n",
       "      <td>94,138,138.000</td>\n",
       "      <td>715,196.330</td>\n",
       "      <td>5.508</td>\n",
       "    </tr>\n",
       "    <tr>\n",
       "      <th>50%</th>\n",
       "      <td>1.500</td>\n",
       "      <td>94,435,588.000</td>\n",
       "      <td>718,096.702</td>\n",
       "      <td>5.515</td>\n",
       "    </tr>\n",
       "    <tr>\n",
       "      <th>75%</th>\n",
       "      <td>1.750</td>\n",
       "      <td>94,733,038.000</td>\n",
       "      <td>720,997.073</td>\n",
       "      <td>5.522</td>\n",
       "    </tr>\n",
       "    <tr>\n",
       "      <th>max</th>\n",
       "      <td>2.000</td>\n",
       "      <td>95,030,488.000</td>\n",
       "      <td>723,897.444</td>\n",
       "      <td>5.530</td>\n",
       "    </tr>\n",
       "  </tbody>\n",
       "</table>\n",
       "</div>"
      ],
      "text/plain": [
       "       Swap      Principal    Delta_FV  Maturity\n",
       "count 2.000          2.000       2.000     2.000\n",
       "mean  1.500 94,435,588.000 718,096.702     5.515\n",
       "std   0.707    841,315.648   8,203.489     0.021\n",
       "min   1.000 93,840,688.000 712,295.959     5.500\n",
       "25%   1.250 94,138,138.000 715,196.330     5.508\n",
       "50%   1.500 94,435,588.000 718,096.702     5.515\n",
       "75%   1.750 94,733,038.000 720,997.073     5.522\n",
       "max   2.000 95,030,488.000 723,897.444     5.530"
      ]
     },
     "metadata": {},
     "output_type": "display_data"
    },
    {
     "name": "stdout",
     "output_type": "stream",
     "text": [
      "\n",
      "Swaps DataFrame info:\n",
      "<class 'pandas.core.frame.DataFrame'>\n",
      "RangeIndex: 2 entries, 0 to 1\n",
      "Data columns (total 4 columns):\n",
      " #   Column     Non-Null Count  Dtype  \n",
      "---  ------     --------------  -----  \n",
      " 0   Swap       2 non-null      int64  \n",
      " 1   Principal  2 non-null      float64\n",
      " 2   Delta_FV   2 non-null      float64\n",
      " 3   Maturity   2 non-null      float64\n",
      "dtypes: float64(3), int64(1)\n",
      "memory usage: 192.0 bytes\n"
     ]
    },
    {
     "data": {
      "text/plain": [
       "None"
      ]
     },
     "metadata": {},
     "output_type": "display_data"
    }
   ],
   "source": [
    "swaps_df, credits_df_v1 = SwapGenerator(credits_df, num_swaps, fulfillment_ratio, random_factor=0.95)\n",
    "print('Top 5 rows of generated swaps:')\n",
    "display(swaps_df.head())\n",
    "print('\\nSwaps DataFrame summary statistics:')\n",
    "display(swaps_df.describe())\n",
    "print('\\nSwaps DataFrame info:')\n",
    "display(swaps_df.info())"
   ]
  },
  {
   "cell_type": "markdown",
   "id": "9b99f4ae",
   "metadata": {},
   "source": [
    "## Cplex Model for First Instance"
   ]
  },
  {
   "cell_type": "code",
   "execution_count": 7,
   "id": "f1e9aeb7",
   "metadata": {},
   "outputs": [
    {
     "name": "stdout",
     "output_type": "stream",
     "text": [
      "integer optimal solution\n",
      "Solution status: CPXMIP_OPTIMAL with delta = 0.0499875856379004\n",
      "Wall Time: 2.32 seconds\n",
      "Deterministic Time: 1537.74 seconds\n"
     ]
    }
   ],
   "source": [
    "import time\n",
    "start_time = time.time()\n",
    "\n",
    "assignment, delta, status, mdl = solve_with_cplex(credits_df_v1, swaps_df,verbose=False, time_limit=60,\n",
    "                                                  num_cpu=None, mip_gap=1e-2, rel_tol=1e-4,\n",
    "                                                    abs_tol=1e-3,precision=2,\n",
    "                                                    presolve=1, reduce=1,\n",
    "                                                  experiment_name=f'Validation_Example_{num_credits}_Credits_{num_swaps}')\n",
    "\n",
    "\n",
    "\n",
    "t_0_time = time.time() - start_time\n",
    "deterministic_time = mdl.solve_details.deterministic_time\n",
    "print(f\"Wall Time: {t_0_time:.2f} seconds\")\n",
    "print(f\"Deterministic Time: {deterministic_time:.2f} seconds\")"
   ]
  },
  {
   "cell_type": "code",
   "execution_count": 8,
   "id": "701d1736",
   "metadata": {},
   "outputs": [
    {
     "data": {
      "text/plain": [
       "0.0499875856379004"
      ]
     },
     "execution_count": 8,
     "metadata": {},
     "output_type": "execute_result"
    }
   ],
   "source": [
    "delta"
   ]
  },
  {
   "cell_type": "markdown",
   "id": "dfe25d9d",
   "metadata": {},
   "source": [
    "## Model Validation and Metrics"
   ]
  },
  {
   "cell_type": "code",
   "execution_count": 9,
   "id": "9b058aac",
   "metadata": {},
   "outputs": [],
   "source": [
    "results_df, summary = validate_solution_cplex(\n",
    "    experiment_name=f'Validation_Example_{num_credits}_Credits_{num_swaps}',\n",
    "    mdl=mdl,\n",
    "    wall_time=t_0_time,\n",
    "    assignment=assignment,\n",
    "    swaps_df=swaps_df,\n",
    "    credits_df=credits_df_v1,\n",
    "    objective_delta=delta,\n",
    "    solver_name='CPLEX',\n",
    ")"
   ]
  },
  {
   "cell_type": "code",
   "execution_count": 10,
   "id": "c12ad3d1",
   "metadata": {},
   "outputs": [
    {
     "data": {
      "text/html": [
       "<div>\n",
       "<style scoped>\n",
       "    .dataframe tbody tr th:only-of-type {\n",
       "        vertical-align: middle;\n",
       "    }\n",
       "\n",
       "    .dataframe tbody tr th {\n",
       "        vertical-align: top;\n",
       "    }\n",
       "\n",
       "    .dataframe thead th {\n",
       "        text-align: right;\n",
       "    }\n",
       "</style>\n",
       "<table border=\"1\" class=\"dataframe\">\n",
       "  <thead>\n",
       "    <tr style=\"text-align: right;\">\n",
       "      <th></th>\n",
       "      <th>0</th>\n",
       "      <th>1</th>\n",
       "    </tr>\n",
       "  </thead>\n",
       "  <tbody>\n",
       "    <tr>\n",
       "      <th>Swap_ID</th>\n",
       "      <td>0</td>\n",
       "      <td>1</td>\n",
       "    </tr>\n",
       "    <tr>\n",
       "      <th>Assigned_Principal</th>\n",
       "      <td>93,843,723.000</td>\n",
       "      <td>95,044,379.000</td>\n",
       "    </tr>\n",
       "    <tr>\n",
       "      <th>Swap_Principal</th>\n",
       "      <td>93,840,688.000</td>\n",
       "      <td>95,030,488.000</td>\n",
       "    </tr>\n",
       "    <tr>\n",
       "      <th>Principal_OK</th>\n",
       "      <td>True</td>\n",
       "      <td>True</td>\n",
       "    </tr>\n",
       "    <tr>\n",
       "      <th>Assigned_Delta_FV</th>\n",
       "      <td>-747,761.730</td>\n",
       "      <td>-760,083.330</td>\n",
       "    </tr>\n",
       "    <tr>\n",
       "      <th>Swap_Delta_FV</th>\n",
       "      <td>712,295.960</td>\n",
       "      <td>723,897.440</td>\n",
       "    </tr>\n",
       "    <tr>\n",
       "      <th>r_j</th>\n",
       "      <td>1.050</td>\n",
       "      <td>1.050</td>\n",
       "    </tr>\n",
       "    <tr>\n",
       "      <th>Delta_OK</th>\n",
       "      <td>True</td>\n",
       "      <td>True</td>\n",
       "    </tr>\n",
       "    <tr>\n",
       "      <th>Assigned_Weighted_Maturity</th>\n",
       "      <td>5.500</td>\n",
       "      <td>5.530</td>\n",
       "    </tr>\n",
       "    <tr>\n",
       "      <th>Swap_Maturity</th>\n",
       "      <td>5.500</td>\n",
       "      <td>5.530</td>\n",
       "    </tr>\n",
       "    <tr>\n",
       "      <th>Maturity_OK</th>\n",
       "      <td>True</td>\n",
       "      <td>True</td>\n",
       "    </tr>\n",
       "  </tbody>\n",
       "</table>\n",
       "</div>"
      ],
      "text/plain": [
       "                                        0              1\n",
       "Swap_ID                                 0              1\n",
       "Assigned_Principal         93,843,723.000 95,044,379.000\n",
       "Swap_Principal             93,840,688.000 95,030,488.000\n",
       "Principal_OK                         True           True\n",
       "Assigned_Delta_FV            -747,761.730   -760,083.330\n",
       "Swap_Delta_FV                 712,295.960    723,897.440\n",
       "r_j                                 1.050          1.050\n",
       "Delta_OK                             True           True\n",
       "Assigned_Weighted_Maturity          5.500          5.530\n",
       "Swap_Maturity                       5.500          5.530\n",
       "Maturity_OK                          True           True"
      ]
     },
     "execution_count": 10,
     "metadata": {},
     "output_type": "execute_result"
    }
   ],
   "source": [
    "results_df.T"
   ]
  },
  {
   "cell_type": "code",
   "execution_count": 11,
   "id": "d31b7473",
   "metadata": {},
   "outputs": [
    {
     "data": {
      "text/html": [
       "<div>\n",
       "<style scoped>\n",
       "    .dataframe tbody tr th:only-of-type {\n",
       "        vertical-align: middle;\n",
       "    }\n",
       "\n",
       "    .dataframe tbody tr th {\n",
       "        vertical-align: top;\n",
       "    }\n",
       "\n",
       "    .dataframe thead th {\n",
       "        text-align: right;\n",
       "    }\n",
       "</style>\n",
       "<table border=\"1\" class=\"dataframe\">\n",
       "  <thead>\n",
       "    <tr style=\"text-align: right;\">\n",
       "      <th></th>\n",
       "      <th>0</th>\n",
       "    </tr>\n",
       "  </thead>\n",
       "  <tbody>\n",
       "    <tr>\n",
       "      <th>Experiment_Name</th>\n",
       "      <td>Validation_Example_10000_Credits_2</td>\n",
       "    </tr>\n",
       "    <tr>\n",
       "      <th>Solver</th>\n",
       "      <td>CPLEX</td>\n",
       "    </tr>\n",
       "    <tr>\n",
       "      <th>Deterministic_Time</th>\n",
       "      <td>1,537.741</td>\n",
       "    </tr>\n",
       "    <tr>\n",
       "      <th>Wall_Time</th>\n",
       "      <td>2.317</td>\n",
       "    </tr>\n",
       "    <tr>\n",
       "      <th>MIP_Gap</th>\n",
       "      <td>0.000</td>\n",
       "    </tr>\n",
       "    <tr>\n",
       "      <th>Objective_Delta</th>\n",
       "      <td>0.0500</td>\n",
       "    </tr>\n",
       "    <tr>\n",
       "      <th>All_Delta_OK</th>\n",
       "      <td>True</td>\n",
       "    </tr>\n",
       "    <tr>\n",
       "      <th>All_Principal_OK</th>\n",
       "      <td>True</td>\n",
       "    </tr>\n",
       "    <tr>\n",
       "      <th>All_Maturity_OK</th>\n",
       "      <td>True</td>\n",
       "    </tr>\n",
       "  </tbody>\n",
       "</table>\n",
       "</div>"
      ],
      "text/plain": [
       "                                                     0\n",
       "Experiment_Name     Validation_Example_10000_Credits_2\n",
       "Solver                                           CPLEX\n",
       "Deterministic_Time                           1,537.741\n",
       "Wall_Time                                        2.317\n",
       "MIP_Gap                                          0.000\n",
       "Objective_Delta                                 0.0500\n",
       "All_Delta_OK                                      True\n",
       "All_Principal_OK                                  True\n",
       "All_Maturity_OK                                   True"
      ]
     },
     "execution_count": 11,
     "metadata": {},
     "output_type": "execute_result"
    }
   ],
   "source": [
    "pd.DataFrame.from_dict(summary,orient='index')"
   ]
  },
  {
   "cell_type": "markdown",
   "id": "6a932a94",
   "metadata": {},
   "source": [
    "## CBC Model for First Instance"
   ]
  },
  {
   "cell_type": "code",
   "execution_count": 12,
   "id": "300824ec",
   "metadata": {},
   "outputs": [],
   "source": [
    "assignment, delta, status, mdl = solve_with_cbc(\n",
    "    credits_df_v1,\n",
    "    swaps_df,\n",
    "    verbose=False,\n",
    "    time_limit=60,\n",
    "    num_cpu=None,\n",
    "    mip_gap=1e-2,\n",
    "    experiment_name=f'Validation_Example_{num_credits}_Credits_{num_swaps}'\n",
    ")"
   ]
  },
  {
   "cell_type": "code",
   "execution_count": 17,
   "id": "71533c33",
   "metadata": {},
   "outputs": [
    {
     "data": {
      "text/plain": [
       "0.035473121"
      ]
     },
     "execution_count": 17,
     "metadata": {},
     "output_type": "execute_result"
    }
   ],
   "source": [
    "delta"
   ]
  },
  {
   "cell_type": "code",
   "execution_count": 18,
   "id": "acfb2207",
   "metadata": {},
   "outputs": [],
   "source": [
    "results_df, summary =validate_solution_cbc(\n",
    "    experiment_name=f'Validation_Example_{num_credits}_Credits_{num_swaps}',\n",
    "    wall_time=t_0_time,\n",
    "    assignment=assignment,\n",
    "    swaps_df=swaps_df,\n",
    "    credits_df=credits_df_v1,\n",
    "    objective_delta=delta,\n",
    "    solver_name='CBC',\n",
    ")"
   ]
  },
  {
   "cell_type": "code",
   "execution_count": 19,
   "id": "d96f640e",
   "metadata": {},
   "outputs": [
    {
     "data": {
      "text/html": [
       "<div>\n",
       "<style scoped>\n",
       "    .dataframe tbody tr th:only-of-type {\n",
       "        vertical-align: middle;\n",
       "    }\n",
       "\n",
       "    .dataframe tbody tr th {\n",
       "        vertical-align: top;\n",
       "    }\n",
       "\n",
       "    .dataframe thead th {\n",
       "        text-align: right;\n",
       "    }\n",
       "</style>\n",
       "<table border=\"1\" class=\"dataframe\">\n",
       "  <thead>\n",
       "    <tr style=\"text-align: right;\">\n",
       "      <th></th>\n",
       "      <th>0</th>\n",
       "      <th>1</th>\n",
       "    </tr>\n",
       "  </thead>\n",
       "  <tbody>\n",
       "    <tr>\n",
       "      <th>Swap_ID</th>\n",
       "      <td>0</td>\n",
       "      <td>1</td>\n",
       "    </tr>\n",
       "    <tr>\n",
       "      <th>Assigned_Principal</th>\n",
       "      <td>93,854,331.000</td>\n",
       "      <td>95,036,552.000</td>\n",
       "    </tr>\n",
       "    <tr>\n",
       "      <th>Swap_Principal</th>\n",
       "      <td>93,840,688.000</td>\n",
       "      <td>95,030,488.000</td>\n",
       "    </tr>\n",
       "    <tr>\n",
       "      <th>Principal_OK</th>\n",
       "      <td>True</td>\n",
       "      <td>True</td>\n",
       "    </tr>\n",
       "    <tr>\n",
       "      <th>Assigned_Delta_FV</th>\n",
       "      <td>-737,563.320</td>\n",
       "      <td>-749,561.310</td>\n",
       "    </tr>\n",
       "    <tr>\n",
       "      <th>Swap_Delta_FV</th>\n",
       "      <td>712,295.960</td>\n",
       "      <td>723,897.440</td>\n",
       "    </tr>\n",
       "    <tr>\n",
       "      <th>r_j</th>\n",
       "      <td>1.035</td>\n",
       "      <td>1.035</td>\n",
       "    </tr>\n",
       "    <tr>\n",
       "      <th>Delta_OK</th>\n",
       "      <td>True</td>\n",
       "      <td>True</td>\n",
       "    </tr>\n",
       "    <tr>\n",
       "      <th>Assigned_Weighted_Maturity</th>\n",
       "      <td>5.500</td>\n",
       "      <td>5.530</td>\n",
       "    </tr>\n",
       "    <tr>\n",
       "      <th>Swap_Maturity</th>\n",
       "      <td>5.500</td>\n",
       "      <td>5.530</td>\n",
       "    </tr>\n",
       "    <tr>\n",
       "      <th>Maturity_OK</th>\n",
       "      <td>True</td>\n",
       "      <td>True</td>\n",
       "    </tr>\n",
       "  </tbody>\n",
       "</table>\n",
       "</div>"
      ],
      "text/plain": [
       "                                        0              1\n",
       "Swap_ID                                 0              1\n",
       "Assigned_Principal         93,854,331.000 95,036,552.000\n",
       "Swap_Principal             93,840,688.000 95,030,488.000\n",
       "Principal_OK                         True           True\n",
       "Assigned_Delta_FV            -737,563.320   -749,561.310\n",
       "Swap_Delta_FV                 712,295.960    723,897.440\n",
       "r_j                                 1.035          1.035\n",
       "Delta_OK                             True           True\n",
       "Assigned_Weighted_Maturity          5.500          5.530\n",
       "Swap_Maturity                       5.500          5.530\n",
       "Maturity_OK                          True           True"
      ]
     },
     "execution_count": 19,
     "metadata": {},
     "output_type": "execute_result"
    }
   ],
   "source": [
    "results_df.T"
   ]
  },
  {
   "cell_type": "code",
   "execution_count": 20,
   "id": "0f2a9a99",
   "metadata": {},
   "outputs": [
    {
     "data": {
      "text/html": [
       "<div>\n",
       "<style scoped>\n",
       "    .dataframe tbody tr th:only-of-type {\n",
       "        vertical-align: middle;\n",
       "    }\n",
       "\n",
       "    .dataframe tbody tr th {\n",
       "        vertical-align: top;\n",
       "    }\n",
       "\n",
       "    .dataframe thead th {\n",
       "        text-align: right;\n",
       "    }\n",
       "</style>\n",
       "<table border=\"1\" class=\"dataframe\">\n",
       "  <thead>\n",
       "    <tr style=\"text-align: right;\">\n",
       "      <th></th>\n",
       "      <th>0</th>\n",
       "    </tr>\n",
       "  </thead>\n",
       "  <tbody>\n",
       "    <tr>\n",
       "      <th>Experiment_Name</th>\n",
       "      <td>Validation_Example_10000_Credits_2</td>\n",
       "    </tr>\n",
       "    <tr>\n",
       "      <th>Solver</th>\n",
       "      <td>CBC</td>\n",
       "    </tr>\n",
       "    <tr>\n",
       "      <th>Wall_Time</th>\n",
       "      <td>2.317</td>\n",
       "    </tr>\n",
       "    <tr>\n",
       "      <th>Objective_Delta</th>\n",
       "      <td>0.0355</td>\n",
       "    </tr>\n",
       "    <tr>\n",
       "      <th>All_Delta_OK</th>\n",
       "      <td>True</td>\n",
       "    </tr>\n",
       "    <tr>\n",
       "      <th>All_Principal_OK</th>\n",
       "      <td>True</td>\n",
       "    </tr>\n",
       "    <tr>\n",
       "      <th>All_Maturity_OK</th>\n",
       "      <td>True</td>\n",
       "    </tr>\n",
       "  </tbody>\n",
       "</table>\n",
       "</div>"
      ],
      "text/plain": [
       "                                                   0\n",
       "Experiment_Name   Validation_Example_10000_Credits_2\n",
       "Solver                                           CBC\n",
       "Wall_Time                                      2.317\n",
       "Objective_Delta                               0.0355\n",
       "All_Delta_OK                                    True\n",
       "All_Principal_OK                                True\n",
       "All_Maturity_OK                                 True"
      ]
     },
     "execution_count": 20,
     "metadata": {},
     "output_type": "execute_result"
    }
   ],
   "source": [
    "pd.DataFrame.from_dict(summary,orient='index')      "
   ]
  },
  {
   "cell_type": "code",
   "execution_count": null,
   "id": "84dd2f9b",
   "metadata": {},
   "outputs": [],
   "source": []
  }
 ],
 "metadata": {
  "kernelspec": {
   "display_name": "mkp_rl",
   "language": "python",
   "name": "python3"
  },
  "language_info": {
   "codemirror_mode": {
    "name": "ipython",
    "version": 3
   },
   "file_extension": ".py",
   "mimetype": "text/x-python",
   "name": "python",
   "nbconvert_exporter": "python",
   "pygments_lexer": "ipython3",
   "version": "3.10.14"
  }
 },
 "nbformat": 4,
 "nbformat_minor": 5
}
